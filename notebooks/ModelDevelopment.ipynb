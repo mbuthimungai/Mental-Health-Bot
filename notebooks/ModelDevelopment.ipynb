{
 "cells": [
  {
   "cell_type": "code",
   "execution_count": 55,
   "id": "6e1a485c-00e8-4a40-9f42-90c93b5a7965",
   "metadata": {},
   "outputs": [],
   "source": [
    "import pandas as pd\n",
    "import seaborn as sns\n",
    "import nltk\n",
    "from nltk.corpus import stopwords\n",
    "from nltk.stem import WordNetLemmatizer\n",
    "import re"
   ]
  },
  {
   "cell_type": "markdown",
   "id": "1235f8e6-1930-4e99-b959-3b5a996416fa",
   "metadata": {},
   "source": [
    "## Data Loading"
   ]
  },
  {
   "cell_type": "code",
   "execution_count": 56,
   "id": "7e468785-2f71-4a40-bae4-14ba37483224",
   "metadata": {},
   "outputs": [],
   "source": [
    "mental_health_df = pd.read_csv(\"../data/raw/Mental_health_dataset.csv\")"
   ]
  },
  {
   "cell_type": "code",
   "execution_count": 57,
   "id": "58953490-026f-44d0-b6ca-3b89857f1c34",
   "metadata": {},
   "outputs": [
    {
     "data": {
      "text/html": [
       "<div>\n",
       "<style scoped>\n",
       "    .dataframe tbody tr th:only-of-type {\n",
       "        vertical-align: middle;\n",
       "    }\n",
       "\n",
       "    .dataframe tbody tr th {\n",
       "        vertical-align: top;\n",
       "    }\n",
       "\n",
       "    .dataframe thead th {\n",
       "        text-align: right;\n",
       "    }\n",
       "</style>\n",
       "<table border=\"1\" class=\"dataframe\">\n",
       "  <thead>\n",
       "    <tr style=\"text-align: right;\">\n",
       "      <th></th>\n",
       "      <th>Timestamp</th>\n",
       "      <th>Content</th>\n",
       "      <th>Sentiment</th>\n",
       "      <th>Topics</th>\n",
       "      <th>Mental Health Indicator</th>\n",
       "      <th>Source Platform</th>\n",
       "      <th>Language</th>\n",
       "    </tr>\n",
       "  </thead>\n",
       "  <tbody>\n",
       "    <tr>\n",
       "      <th>0</th>\n",
       "      <td>23-08-22 09:22</td>\n",
       "      <td>Feeling disconnected from everyone around me.</td>\n",
       "      <td>negative</td>\n",
       "      <td>anxiety</td>\n",
       "      <td>1</td>\n",
       "      <td>Facebook</td>\n",
       "      <td>English</td>\n",
       "    </tr>\n",
       "    <tr>\n",
       "      <th>1</th>\n",
       "      <td>23-01-10 03:05</td>\n",
       "      <td>Struggling to find motivation for even the sma...</td>\n",
       "      <td>negative</td>\n",
       "      <td>anxiety</td>\n",
       "      <td>1</td>\n",
       "      <td>Instagram</td>\n",
       "      <td>English</td>\n",
       "    </tr>\n",
       "    <tr>\n",
       "      <th>2</th>\n",
       "      <td>23-04-11 09:15</td>\n",
       "      <td>Feeling quite overwhelmed by everything. Need ...</td>\n",
       "      <td>negative</td>\n",
       "      <td>anxiety</td>\n",
       "      <td>1</td>\n",
       "      <td>Instagram</td>\n",
       "      <td>English</td>\n",
       "    </tr>\n",
       "    <tr>\n",
       "      <th>3</th>\n",
       "      <td>23-03-23 11:19</td>\n",
       "      <td>Had a great workout today! Feeling energized a...</td>\n",
       "      <td>positive</td>\n",
       "      <td>well-being</td>\n",
       "      <td>0</td>\n",
       "      <td>Reddit</td>\n",
       "      <td>English</td>\n",
       "    </tr>\n",
       "    <tr>\n",
       "      <th>4</th>\n",
       "      <td>23-09-26 19:29</td>\n",
       "      <td>Struggling to find motivation for even the sma...</td>\n",
       "      <td>negative</td>\n",
       "      <td>loneliness</td>\n",
       "      <td>1</td>\n",
       "      <td>Instagram</td>\n",
       "      <td>English</td>\n",
       "    </tr>\n",
       "  </tbody>\n",
       "</table>\n",
       "</div>"
      ],
      "text/plain": [
       "        Timestamp                                            Content  \\\n",
       "0  23-08-22 09:22      Feeling disconnected from everyone around me.   \n",
       "1  23-01-10 03:05  Struggling to find motivation for even the sma...   \n",
       "2  23-04-11 09:15  Feeling quite overwhelmed by everything. Need ...   \n",
       "3  23-03-23 11:19  Had a great workout today! Feeling energized a...   \n",
       "4  23-09-26 19:29  Struggling to find motivation for even the sma...   \n",
       "\n",
       "  Sentiment      Topics  Mental Health Indicator Source Platform Language  \n",
       "0  negative     anxiety                        1        Facebook  English  \n",
       "1  negative     anxiety                        1       Instagram  English  \n",
       "2  negative     anxiety                        1       Instagram  English  \n",
       "3  positive  well-being                        0          Reddit  English  \n",
       "4  negative  loneliness                        1       Instagram  English  "
      ]
     },
     "execution_count": 57,
     "metadata": {},
     "output_type": "execute_result"
    }
   ],
   "source": [
    "mental_health_df.head()"
   ]
  },
  {
   "cell_type": "markdown",
   "id": "f7dfc93d-f974-4a49-8bb8-b49c29de22b8",
   "metadata": {},
   "source": [
    "## Data Analysis"
   ]
  },
  {
   "cell_type": "markdown",
   "id": "275e1e6e-b344-4d14-a4d8-71d579200f97",
   "metadata": {},
   "source": [
    "### Sentiment Distribution"
   ]
  },
  {
   "cell_type": "code",
   "execution_count": 58,
   "id": "ee696432-18d7-4a07-a719-4cdf676854b8",
   "metadata": {},
   "outputs": [
    {
     "data": {
      "text/plain": [
       "Sentiment\n",
       "negative    29865\n",
       "positive    20135\n",
       "Name: count, dtype: int64"
      ]
     },
     "execution_count": 58,
     "metadata": {},
     "output_type": "execute_result"
    }
   ],
   "source": [
    "mental_health_df[\"Sentiment\"].value_counts()"
   ]
  },
  {
   "cell_type": "code",
   "execution_count": 59,
   "id": "62f4916d-2e0d-42ca-9bdd-f52c6cec7077",
   "metadata": {},
   "outputs": [
    {
     "data": {
      "text/plain": [
       "<Axes: xlabel='Sentiment', ylabel='count'>"
      ]
     },
     "execution_count": 59,
     "metadata": {},
     "output_type": "execute_result"
    },
    {
     "data": {
      "image/png": "[encoded data removed]",
      "text/plain": [
       "<Figure size 640x480 with 1 Axes>"
      ]
     },
     "metadata": {},
     "output_type": "display_data"
    }
   ],
   "source": [
    "\n",
    "sns.countplot(x=\"Sentiment\", data=mental_health_df)"
   ]
  },
  {
   "cell_type": "markdown",
   "id": "f1ee8f9a-753d-405b-8fcf-3eec53939871",
   "metadata": {},
   "source": [
    "### Topic distribution"
   ]
  },
  {
   "cell_type": "code",
   "execution_count": 60,
   "id": "74602ba3-0ebc-4def-ab6e-d2326ef5246d",
   "metadata": {},
   "outputs": [
    {
     "data": {
      "text/plain": [
       "Topics\n",
       "loneliness    10077\n",
       "depression     9949\n",
       "anxiety        9839\n",
       "happiness      6777\n",
       "well-being     6751\n",
       "success        6607\n",
       "Name: count, dtype: int64"
      ]
     },
     "execution_count": 60,
     "metadata": {},
     "output_type": "execute_result"
    }
   ],
   "source": [
    "mental_health_df[\"Topics\"].value_counts()"
   ]
  },
  {
   "cell_type": "code",
   "execution_count": 61,
   "id": "7d3e5a9b-971d-4c77-8d1f-416a5b27d695",
   "metadata": {},
   "outputs": [
    {
     "data": {
      "text/plain": [
       "<Axes: xlabel='Topics', ylabel='count'>"
      ]
     },
     "execution_count": 61,
     "metadata": {},
     "output_type": "execute_result"
    },
    {
     "data": {
      "image/png": "[encoded data removed]",
      "text/plain": [
       "<Figure size 640x480 with 1 Axes>"
      ]
     },
     "metadata": {},
     "output_type": "display_data"
    }
   ],
   "source": [
    "sns.countplot(x=\"Topics\", data=mental_health_df)"
   ]
  },
  {
   "cell_type": "markdown",
   "id": "6f38b823-7471-488b-8bef-4d8a43dc1766",
   "metadata": {},
   "source": [
    "## Data cleaning"
   ]
  },
  {
   "cell_type": "code",
   "execution_count": 62,
   "id": "6675679f-b166-4afd-bc9d-00521cbc52f7",
   "metadata": {},
   "outputs": [
    {
     "name": "stderr",
     "output_type": "stream",
     "text": [
      "[nltk_data] Downloading package stopwords to\n",
      "[nltk_data]     C:\\Users\\ADMIN\\AppData\\Roaming\\nltk_data...\n",
      "[nltk_data]   Package stopwords is already up-to-date!\n",
      "[nltk_data] Downloading package wordnet to\n",
      "[nltk_data]     C:\\Users\\ADMIN\\AppData\\Roaming\\nltk_data...\n",
      "[nltk_data]   Package wordnet is already up-to-date!\n"
     ]
    }
   ],
   "source": [
    "# Download necessary NLTK data\n",
    "nltk.download('stopwords')\n",
    "nltk.download('wordnet')\n",
    "\n",
    "# Initialize lemmatizer\n",
    "lemmatizer = WordNetLemmatizer()\n",
    "\n",
    "# Define a cleaning function\n",
    "def clean_text(text):\n",
    "    # Remove URLs, special characters, and numbers\n",
    "    text = re.sub(r'http\\S+|www\\S+|https\\S+', '', text, flags=re.MULTILINE)\n",
    "    text = re.sub(r'\\W+|\\d+', ' ', text)\n",
    "    \n",
    "    # Convert text to lowercase\n",
    "    text = text.lower()\n",
    "    \n",
    "    # Remove stopwords and apply lemmatization\n",
    "    stop_words = set(stopwords.words('english'))\n",
    "    tokens = text.split()\n",
    "    cleaned_tokens = [lemmatizer.lemmatize(word) for word in tokens if word not in stop_words]\n",
    "    \n",
    "    # Join tokens back into a string\n",
    "    cleaned_text = ' '.join(cleaned_tokens)\n",
    "    return cleaned_text\n",
    "\n",
    "# Apply the cleaning function to the Content column\n",
    "mental_health_df['Content'] = mental_health_df['Content'].apply(clean_text)"
   ]
  },
  {
   "cell_type": "code",
   "execution_count": 63,
   "id": "53e9edbc-3922-4bbf-a356-9481303a0f49",
   "metadata": {},
   "outputs": [
    {
     "data": {
      "text/html": [
       "<div>\n",
       "<style scoped>\n",
       "    .dataframe tbody tr th:only-of-type {\n",
       "        vertical-align: middle;\n",
       "    }\n",
       "\n",
       "    .dataframe tbody tr th {\n",
       "        vertical-align: top;\n",
       "    }\n",
       "\n",
       "    .dataframe thead th {\n",
       "        text-align: right;\n",
       "    }\n",
       "</style>\n",
       "<table border=\"1\" class=\"dataframe\">\n",
       "  <thead>\n",
       "    <tr style=\"text-align: right;\">\n",
       "      <th></th>\n",
       "      <th>Timestamp</th>\n",
       "      <th>Content</th>\n",
       "      <th>Sentiment</th>\n",
       "      <th>Topics</th>\n",
       "      <th>Mental Health Indicator</th>\n",
       "      <th>Source Platform</th>\n",
       "      <th>Language</th>\n",
       "    </tr>\n",
       "  </thead>\n",
       "  <tbody>\n",
       "    <tr>\n",
       "      <th>0</th>\n",
       "      <td>23-08-22 09:22</td>\n",
       "      <td>feeling disconnected everyone around</td>\n",
       "      <td>negative</td>\n",
       "      <td>anxiety</td>\n",
       "      <td>1</td>\n",
       "      <td>Facebook</td>\n",
       "      <td>English</td>\n",
       "    </tr>\n",
       "    <tr>\n",
       "      <th>1</th>\n",
       "      <td>23-01-10 03:05</td>\n",
       "      <td>struggling find motivation even smallest task</td>\n",
       "      <td>negative</td>\n",
       "      <td>anxiety</td>\n",
       "      <td>1</td>\n",
       "      <td>Instagram</td>\n",
       "      <td>English</td>\n",
       "    </tr>\n",
       "    <tr>\n",
       "      <th>2</th>\n",
       "      <td>23-04-11 09:15</td>\n",
       "      <td>feeling quite overwhelmed everything need talk...</td>\n",
       "      <td>negative</td>\n",
       "      <td>anxiety</td>\n",
       "      <td>1</td>\n",
       "      <td>Instagram</td>\n",
       "      <td>English</td>\n",
       "    </tr>\n",
       "    <tr>\n",
       "      <th>3</th>\n",
       "      <td>23-03-23 11:19</td>\n",
       "      <td>great workout today feeling energized positive</td>\n",
       "      <td>positive</td>\n",
       "      <td>well-being</td>\n",
       "      <td>0</td>\n",
       "      <td>Reddit</td>\n",
       "      <td>English</td>\n",
       "    </tr>\n",
       "    <tr>\n",
       "      <th>4</th>\n",
       "      <td>23-09-26 19:29</td>\n",
       "      <td>struggling find motivation even smallest task</td>\n",
       "      <td>negative</td>\n",
       "      <td>loneliness</td>\n",
       "      <td>1</td>\n",
       "      <td>Instagram</td>\n",
       "      <td>English</td>\n",
       "    </tr>\n",
       "  </tbody>\n",
       "</table>\n",
       "</div>"
      ],
      "text/plain": [
       "        Timestamp                                            Content  \\\n",
       "0  23-08-22 09:22               feeling disconnected everyone around   \n",
       "1  23-01-10 03:05      struggling find motivation even smallest task   \n",
       "2  23-04-11 09:15  feeling quite overwhelmed everything need talk...   \n",
       "3  23-03-23 11:19     great workout today feeling energized positive   \n",
       "4  23-09-26 19:29      struggling find motivation even smallest task   \n",
       "\n",
       "  Sentiment      Topics  Mental Health Indicator Source Platform Language  \n",
       "0  negative     anxiety                        1        Facebook  English  \n",
       "1  negative     anxiety                        1       Instagram  English  \n",
       "2  negative     anxiety                        1       Instagram  English  \n",
       "3  positive  well-being                        0          Reddit  English  \n",
       "4  negative  loneliness                        1       Instagram  English  "
      ]
     },
     "execution_count": 63,
     "metadata": {},
     "output_type": "execute_result"
    }
   ],
   "source": [
    "mental_health_df.head()"
   ]
  },
  {
   "cell_type": "markdown",
   "id": "aa1bc451-e748-4e6a-9d40-0e5e451dfa91",
   "metadata": {},
   "source": [
    "## Data splitting"
   ]
  },
  {
   "cell_type": "code",
   "execution_count": 64,
   "id": "0d336ff4-c15a-4aef-b4d9-257c62f05045",
   "metadata": {},
   "outputs": [
    {
     "name": "stdout",
     "output_type": "stream",
     "text": [
      "Training set size: 35000\n",
      "Validation set size: 7500\n",
      "Testing set size: 7500\n"
     ]
    }
   ],
   "source": [
    "from sklearn.model_selection import train_test_split\n",
    "\n",
    "# Split the dataset into features (X) and target label (y)\n",
    "X = mental_health_df['Content']\n",
    "y = mental_health_df['Mental Health Indicator']\n",
    "\n",
    "# Split the data into training and testing sets\n",
    "X_train, X_temp, y_train, y_temp = train_test_split(X, y, test_size=0.3, random_state=42)\n",
    "\n",
    "# Split the temp set into validation and test sets\n",
    "X_val, X_test, y_val, y_test = train_test_split(X_temp, y_temp, test_size=0.5, random_state=42)\n",
    "\n",
    "print(f\"Training set size: {len(X_train)}\")\n",
    "print(f\"Validation set size: {len(X_val)}\")\n",
    "print(f\"Testing set size: {len(X_test)}\")\n"
   ]
  },
  {
   "cell_type": "markdown",
   "id": "9fd0b8e4-21bd-4c39-84ef-8aca6583b84b",
   "metadata": {},
   "source": [
    "## Feature Engineeting"
   ]
  },
  {
   "cell_type": "markdown",
   "id": "5db90814-b8a3-404c-b5b6-391440cae7f5",
   "metadata": {},
   "source": [
    "* a) Text vectorization"
   ]
  },
  {
   "cell_type": "code",
   "execution_count": 65,
   "id": "f08d0e76-5bcb-442f-9eb5-7ef4096a7667",
   "metadata": {},
   "outputs": [],
   "source": [
    "from sklearn.feature_extraction.text import TfidfVectorizer\n",
    "\n",
    "# Initialize the TF-IDF Vectorizer\n",
    "tfidf_vectorizer = TfidfVectorizer(max_features=10000, ngram_range=(1,2))\n",
    "\n",
    "# Fit and transform the training data to create TF-IDF features\n",
    "X_train_tfidf = tfidf_vectorizer.fit_transform(X_train)\n",
    "\n",
    "# Transform the validation and test sets\n",
    "X_val_tfidf = tfidf_vectorizer.transform(X_val)\n",
    "X_test_tfidf = tfidf_vectorizer.transform(X_test)\n"
   ]
  },
  {
   "cell_type": "markdown",
   "id": "e6ba283d-6dc3-46ec-bdfe-5e2ddeb47492",
   "metadata": {},
   "source": [
    "* b) Handle imbalanced data"
   ]
  },
  {
   "cell_type": "code",
   "execution_count": 66,
   "id": "b669c4cc-f77f-4b17-8d9e-20240a5ff562",
   "metadata": {},
   "outputs": [
    {
     "name": "stdout",
     "output_type": "stream",
     "text": [
      "Class distribution in y_train after SMOTE: Mental Health Indicator\n",
      "0    20876\n",
      "1    20876\n",
      "Name: count, dtype: int64\n"
     ]
    }
   ],
   "source": [
    "from imblearn.over_sampling import SMOTE\n",
    "\n",
    "# Initialize SMOTE\n",
    "smote = SMOTE(random_state=42)\n",
    "\n",
    "# Apply SMOTE on the training data\n",
    "X_train_smote, y_train_smote = smote.fit_resample(X_train_tfidf, y_train)\n",
    "\n",
    "# Check the class distribution\n",
    "print(f\"Class distribution in y_train after SMOTE: {pd.Series(y_train_smote).value_counts()}\")\n"
   ]
  },
  {
   "cell_type": "code",
   "execution_count": 67,
   "id": "af9eb728-7905-485f-8dab-777b5e27963a",
   "metadata": {},
   "outputs": [
    {
     "name": "stdout",
     "output_type": "stream",
     "text": [
      "              precision    recall  f1-score   support\n",
      "\n",
      "           0       1.00      1.00      1.00      2980\n",
      "           1       1.00      1.00      1.00      4520\n",
      "\n",
      "    accuracy                           1.00      7500\n",
      "   macro avg       1.00      1.00      1.00      7500\n",
      "weighted avg       1.00      1.00      1.00      7500\n",
      "\n"
     ]
    }
   ],
   "source": [
    "from sklearn.linear_model import LogisticRegression\n",
    "from sklearn.metrics import classification_report\n",
    "\n",
    "# Initialize the Logistic Regression model\n",
    "log_reg = LogisticRegression(random_state=42)\n",
    "\n",
    "# Fit the model on the training data\n",
    "log_reg.fit(X_train_smote, y_train_smote)\n",
    "\n",
    "# Predict on the validation set\n",
    "y_val_pred = log_reg.predict(X_val_tfidf)\n",
    "\n",
    "# Evaluate the model\n",
    "print(classification_report(y_val, y_val_pred))\n"
   ]
  },
  {
   "cell_type": "markdown",
   "id": "f43d7931-1623-4f32-a79a-bda758678955",
   "metadata": {},
   "source": [
    "## Validation"
   ]
  },
  {
   "cell_type": "code",
   "execution_count": 71,
   "id": "096563b1-e89c-4637-b7e3-03eba8994f46",
   "metadata": {},
   "outputs": [
    {
     "name": "stdout",
     "output_type": "stream",
     "text": [
      "['feeling overwhelmed anxious future', 'great day friend feeling really happy', 'struggling cope workload feeling stressed', 'feeling quite happy today bit anxious tomorrow', 'finished great book ancient history feeling inspired', 'lately feeling overwhelmed worry thing control', 'starting meditation significantly improved overall sense well', 'weather quite unpredictable week rain sunshine alternating', 'matter persistent feeling sadness seem shake', 'month therapy finally starting see improvement feel life', 'recent study suggest spending time nature positive effect mental health', 'deadline approaching fast starting doubt handle pressure', 'grateful support group found comforting know alone journey', 'hopeful future anxious change might bring personal life mental health']\n",
      "[1 0 1 1 0 1 1 1 1 1 0 1 0 1]\n"
     ]
    }
   ],
   "source": [
    "# Example custom data\n",
    "custom_data = [\n",
    "    \"Feeling overwhelmed and anxious about the future.\",\n",
    "    \"Had a great day with friends, feeling really happy!\",\n",
    "    \"Struggling to cope with my workload and feeling stressed.\",\n",
    "    \"I'm feeling quite happy today, but a bit anxious about tomorrow.\",\n",
    "    \"Just finished a great book on ancient history and I'm feeling inspired!\",\n",
    "    \"Lately, I've been feeling overwhelmed with worry about things that are out of my control.\",\n",
    "    \"Starting meditation has significantly improved my overall sense of well-being.\",\n",
    "    \"The weather has been quite unpredictable this week, with rain and sunshine alternating.\",\n",
    "    \"No matter what I do, there's a persistent feeling of sadness that I can't seem to shake off.\",\n",
    "    \"After months of therapy, I'm finally starting to see improvements in how I feel about myself and my life.\",\n",
    "    \"Recent studies suggest that spending time in nature can have a positive effect on mental health.\",\n",
    "    \"Deadlines are approaching fast, and I'm starting to doubt if I can handle the pressure.\",\n",
    "    \"I am so grateful for the support group I've found; it's comforting to know I'm not alone in this journey.\",\n",
    "    \"I'm hopeful about the future but anxious about the changes it might bring to my personal life and mental health.\"\n",
    "    \n",
    "]\n",
    "\n",
    "# Apply the cleaning function defined previously\n",
    "cleaned_custom_data = [clean_text(text) for text in custom_data]\n",
    "print(cleaned_custom_data)\n",
    "# Transform the custom data\n",
    "custom_data_tfidf = tfidf_vectorizer.transform(cleaned_custom_data)\n",
    "\n",
    "# Making predictions\n",
    "custom_predictions = log_reg.predict(custom_data_tfidf)\n",
    "\n",
    "print(custom_predictions)\n"
   ]
  },
  {
   "cell_type": "markdown",
   "id": "b891dad7-e8fc-443f-97b1-f0c774615a63",
   "metadata": {},
   "source": [
    "## Save model"
   ]
  },
  {
   "cell_type": "code",
   "execution_count": 69,
   "id": "ad1bc842-315e-408a-8a65-0426291520ff",
   "metadata": {},
   "outputs": [
    {
     "data": {
      "text/plain": [
       "['../models/mh_logistic_regression_model.joblib']"
      ]
     },
     "execution_count": 69,
     "metadata": {},
     "output_type": "execute_result"
    }
   ],
   "source": [
    "from joblib import dump\n",
    "from sklearn.feature_extraction.text import TfidfVectorizer\n",
    "\n",
    "\n",
    "\n",
    "# Save the fitted TF-IDF Vectorizer\n",
    "dump(tfidf_vectorizer, '../models/mh_tfidf_vectorizer.joblib')\n",
    "\n",
    "# Save the trained logistic regression model\n",
    "dump(log_reg, '../models/mh_logistic_regression_model.joblib')\n",
    "\n"
   ]
  },
  {
   "cell_type": "code",
   "execution_count": null,
   "id": "f0eccda1-50b0-47f7-9121-318afec61456",
   "metadata": {},
   "outputs": [],
   "source": []
  }
 ],
 "metadata": {
  "kernelspec": {
   "display_name": "Python 3 (ipykernel)",
   "language": "python",
   "name": "python3"
  },
  "language_info": {
   "codemirror_mode": {
    "name": "ipython",
    "version": 3
   },
   "file_extension": ".py",
   "mimetype": "text/x-python",
   "name": "python",
   "nbconvert_exporter": "python",
   "pygments_lexer": "ipython3",
   "version": "3.10.11"
  }
 },
 "nbformat": 4,
 "nbformat_minor": 5
}
